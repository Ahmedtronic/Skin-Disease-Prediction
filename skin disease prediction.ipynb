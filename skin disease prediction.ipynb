{
 "cells": [
  {
   "cell_type": "markdown",
   "metadata": {},
   "source": [
    "# Importing Libraries"
   ]
  },
  {
   "cell_type": "code",
   "execution_count": 2,
   "metadata": {
    "ExecuteTime": {
     "end_time": "2022-05-10T19:58:36.611253Z",
     "start_time": "2022-05-10T19:58:33.446225Z"
    },
    "execution": {
     "iopub.execute_input": "2022-05-10T18:42:11.640212Z",
     "iopub.status.busy": "2022-05-10T18:42:11.639844Z",
     "iopub.status.idle": "2022-05-10T18:42:18.326600Z",
     "shell.execute_reply": "2022-05-10T18:42:18.325773Z",
     "shell.execute_reply.started": "2022-05-10T18:42:11.640134Z"
    }
   },
   "outputs": [],
   "source": [
    "import seaborn as sns\n",
    "import matplotlib.pyplot as plt\n",
    "from imblearn.over_sampling import RandomOverSampler \n",
    "import numpy as np\n",
    "from sklearn.model_selection import train_test_split\n",
    "import os, cv2\n",
    "import tensorflow as tf\n",
    "from tensorflow.keras.models import Sequential\n",
    "from tensorflow.keras.layers import Conv2D, Flatten, Dense, MaxPool2D"
   ]
  },
  {
   "cell_type": "markdown",
   "metadata": {},
   "source": [
    "# Import Data"
   ]
  },
  {
   "cell_type": "code",
   "execution_count": null,
   "metadata": {
    "ExecuteTime": {
     "end_time": "2022-05-10T19:58:37.112227Z",
     "start_time": "2022-05-10T19:58:34.890Z"
    },
    "execution": {
     "iopub.execute_input": "2022-05-10T18:42:22.397751Z",
     "iopub.status.busy": "2022-05-10T18:42:22.397244Z",
     "iopub.status.idle": "2022-05-10T18:42:26.653290Z",
     "shell.execute_reply": "2022-05-10T18:42:26.651549Z",
     "shell.execute_reply.started": "2022-05-10T18:42:22.397710Z"
    }
   },
   "outputs": [],
   "source": [
    "import pandas as pd\n",
    "data = pd.read_csv('hmnist_28_28_RGB.csv')\n",
    "data.head()"
   ]
  },
  {
   "cell_type": "code",
   "execution_count": null,
   "metadata": {
    "ExecuteTime": {
     "end_time": "2022-05-10T19:58:37.117227Z",
     "start_time": "2022-05-10T19:58:37.079Z"
    },
    "execution": {
     "iopub.execute_input": "2022-05-10T18:42:26.655430Z",
     "iopub.status.busy": "2022-05-10T18:42:26.655111Z",
     "iopub.status.idle": "2022-05-10T18:42:26.721431Z",
     "shell.execute_reply": "2022-05-10T18:42:26.720431Z",
     "shell.execute_reply.started": "2022-05-10T18:42:26.655395Z"
    }
   },
   "outputs": [],
   "source": [
    "y = data['label']\n",
    "x = data.drop(columns = ['label'])"
   ]
  },
  {
   "cell_type": "markdown",
   "metadata": {},
   "source": [
    "# Exploratory Data Analysis (EDA)"
   ]
  },
  {
   "cell_type": "code",
   "execution_count": 6,
   "metadata": {
    "ExecuteTime": {
     "end_time": "2022-05-10T19:53:52.041845Z",
     "start_time": "2022-05-10T19:53:52.013847Z"
    },
    "execution": {
     "iopub.execute_input": "2022-05-10T18:42:26.723303Z",
     "iopub.status.busy": "2022-05-10T18:42:26.722938Z",
     "iopub.status.idle": "2022-05-10T18:42:26.758929Z",
     "shell.execute_reply": "2022-05-10T18:42:26.757808Z",
     "shell.execute_reply.started": "2022-05-10T18:42:26.723265Z"
    }
   },
   "outputs": [
    {
     "data": {
      "text/html": [
       "<div>\n",
       "<style scoped>\n",
       "    .dataframe tbody tr th:only-of-type {\n",
       "        vertical-align: middle;\n",
       "    }\n",
       "\n",
       "    .dataframe tbody tr th {\n",
       "        vertical-align: top;\n",
       "    }\n",
       "\n",
       "    .dataframe thead th {\n",
       "        text-align: right;\n",
       "    }\n",
       "</style>\n",
       "<table border=\"1\" class=\"dataframe\">\n",
       "  <thead>\n",
       "    <tr style=\"text-align: right;\">\n",
       "      <th></th>\n",
       "      <th>lesion_id</th>\n",
       "      <th>image_id</th>\n",
       "      <th>dx</th>\n",
       "      <th>dx_type</th>\n",
       "      <th>age</th>\n",
       "      <th>sex</th>\n",
       "      <th>localization</th>\n",
       "    </tr>\n",
       "  </thead>\n",
       "  <tbody>\n",
       "    <tr>\n",
       "      <th>0</th>\n",
       "      <td>HAM_0000118</td>\n",
       "      <td>ISIC_0027419</td>\n",
       "      <td>bkl</td>\n",
       "      <td>histo</td>\n",
       "      <td>80.0</td>\n",
       "      <td>male</td>\n",
       "      <td>scalp</td>\n",
       "    </tr>\n",
       "    <tr>\n",
       "      <th>1</th>\n",
       "      <td>HAM_0000118</td>\n",
       "      <td>ISIC_0025030</td>\n",
       "      <td>bkl</td>\n",
       "      <td>histo</td>\n",
       "      <td>80.0</td>\n",
       "      <td>male</td>\n",
       "      <td>scalp</td>\n",
       "    </tr>\n",
       "    <tr>\n",
       "      <th>2</th>\n",
       "      <td>HAM_0002730</td>\n",
       "      <td>ISIC_0026769</td>\n",
       "      <td>bkl</td>\n",
       "      <td>histo</td>\n",
       "      <td>80.0</td>\n",
       "      <td>male</td>\n",
       "      <td>scalp</td>\n",
       "    </tr>\n",
       "    <tr>\n",
       "      <th>3</th>\n",
       "      <td>HAM_0002730</td>\n",
       "      <td>ISIC_0025661</td>\n",
       "      <td>bkl</td>\n",
       "      <td>histo</td>\n",
       "      <td>80.0</td>\n",
       "      <td>male</td>\n",
       "      <td>scalp</td>\n",
       "    </tr>\n",
       "    <tr>\n",
       "      <th>4</th>\n",
       "      <td>HAM_0001466</td>\n",
       "      <td>ISIC_0031633</td>\n",
       "      <td>bkl</td>\n",
       "      <td>histo</td>\n",
       "      <td>75.0</td>\n",
       "      <td>male</td>\n",
       "      <td>ear</td>\n",
       "    </tr>\n",
       "  </tbody>\n",
       "</table>\n",
       "</div>"
      ],
      "text/plain": [
       "     lesion_id      image_id   dx dx_type   age   sex localization\n",
       "0  HAM_0000118  ISIC_0027419  bkl   histo  80.0  male        scalp\n",
       "1  HAM_0000118  ISIC_0025030  bkl   histo  80.0  male        scalp\n",
       "2  HAM_0002730  ISIC_0026769  bkl   histo  80.0  male        scalp\n",
       "3  HAM_0002730  ISIC_0025661  bkl   histo  80.0  male        scalp\n",
       "4  HAM_0001466  ISIC_0031633  bkl   histo  75.0  male          ear"
      ]
     },
     "execution_count": 6,
     "metadata": {},
     "output_type": "execute_result"
    }
   ],
   "source": [
    "tabular_data = pd.read_csv('HAM10000_metadata.csv')\n",
    "tabular_data.head()"
   ]
  },
  {
   "cell_type": "code",
   "execution_count": 7,
   "metadata": {
    "ExecuteTime": {
     "end_time": "2022-05-10T19:53:52.244849Z",
     "start_time": "2022-05-10T19:53:52.229845Z"
    },
    "execution": {
     "iopub.execute_input": "2022-05-10T18:42:41.967777Z",
     "iopub.status.busy": "2022-05-10T18:42:41.967407Z",
     "iopub.status.idle": "2022-05-10T18:42:41.972973Z",
     "shell.execute_reply": "2022-05-10T18:42:41.971723Z",
     "shell.execute_reply.started": "2022-05-10T18:42:41.967744Z"
    }
   },
   "outputs": [],
   "source": [
    "classes = {4: ('nv', ' melanocytic nevi'), 6: ('mel', 'melanoma'), 2 :('bkl', 'benign keratosis-like lesions'), 1:('bcc' , ' basal cell carcinoma'), 5: ('vasc', ' pyogenic granulomas and hemorrhage'), 0: ('akiec', 'Actinic keratoses and intraepithelial carcinomae'),  3: ('df', 'dermatofibroma')}"
   ]
  },
  {
   "cell_type": "markdown",
   "metadata": {},
   "source": [
    "# Frequency Distribution of Classes"
   ]
  },
  {
   "cell_type": "code",
   "execution_count": 8,
   "metadata": {
    "ExecuteTime": {
     "end_time": "2022-05-10T19:53:52.603847Z",
     "start_time": "2022-05-10T19:53:52.433848Z"
    },
    "execution": {
     "iopub.execute_input": "2022-05-10T18:42:43.695883Z",
     "iopub.status.busy": "2022-05-10T18:42:43.695527Z",
     "iopub.status.idle": "2022-05-10T18:42:43.890097Z",
     "shell.execute_reply": "2022-05-10T18:42:43.889257Z",
     "shell.execute_reply.started": "2022-05-10T18:42:43.695836Z"
    }
   },
   "outputs": [
    {
     "data": {
      "text/plain": [
       "Text(0.5, 1.0, 'Frequency Distribution of Classes')"
      ]
     },
     "execution_count": 8,
     "metadata": {},
     "output_type": "execute_result"
    },
    {
     "data": {
      "image/png": "[encoded data removed]",
      "text/plain": [
       "<Figure size 432x288 with 1 Axes>"
      ]
     },
     "metadata": {
      "needs_background": "light"
     },
     "output_type": "display_data"
    }
   ],
   "source": [
    "sns.countplot(x = 'dx', data = tabular_data)\n",
    "plt.xlabel('Disease', size=12)\n",
    "plt.ylabel('Frequency', size=12)\n",
    "plt.title('Frequency Distribution of Classes', size=16)"
   ]
  },
  {
   "cell_type": "markdown",
   "metadata": {},
   "source": [
    "# Distribution of Disease over Gender"
   ]
  },
  {
   "cell_type": "code",
   "execution_count": 9,
   "metadata": {
    "ExecuteTime": {
     "end_time": "2022-05-10T19:53:52.876847Z",
     "start_time": "2022-05-10T19:53:52.785844Z"
    },
    "execution": {
     "iopub.execute_input": "2022-05-10T18:42:45.738807Z",
     "iopub.status.busy": "2022-05-10T18:42:45.738480Z",
     "iopub.status.idle": "2022-05-10T18:42:45.873558Z",
     "shell.execute_reply": "2022-05-10T18:42:45.872861Z",
     "shell.execute_reply.started": "2022-05-10T18:42:45.738775Z"
    }
   },
   "outputs": [
    {
     "data": {
      "text/plain": [
       "Text(0.5, 1.0, 'Gender of Patient')"
      ]
     },
     "execution_count": 9,
     "metadata": {},
     "output_type": "execute_result"
    },
    {
     "data": {
      "image/png": "[encoded data removed]",
      "text/plain": [
       "<Figure size 720x720 with 1 Axes>"
      ]
     },
     "metadata": {},
     "output_type": "display_data"
    }
   ],
   "source": [
    "bar, ax = plt.subplots(figsize = (10,10))\n",
    "plt.pie(tabular_data['sex'].value_counts(), labels = tabular_data['sex'].value_counts().index, autopct=\"%.1f%%\")\n",
    "plt.title('Gender of Patient', size=16)"
   ]
  },
  {
   "cell_type": "markdown",
   "metadata": {},
   "source": [
    "# Histogram of Age of Patients"
   ]
  },
  {
   "cell_type": "code",
   "execution_count": 10,
   "metadata": {
    "ExecuteTime": {
     "end_time": "2022-05-10T19:53:53.768845Z",
     "start_time": "2022-05-10T19:53:53.587844Z"
    },
    "execution": {
     "iopub.execute_input": "2022-05-10T18:42:50.214519Z",
     "iopub.status.busy": "2022-05-10T18:42:50.214186Z",
     "iopub.status.idle": "2022-05-10T18:42:50.616843Z",
     "shell.execute_reply": "2022-05-10T18:42:50.615316Z",
     "shell.execute_reply.started": "2022-05-10T18:42:50.214488Z"
    }
   },
   "outputs": [
    {
     "data": {
      "text/plain": [
       "Text(0.5, 1.0, 'Histogram of Age of Patients')"
      ]
     },
     "execution_count": 10,
     "metadata": {},
     "output_type": "execute_result"
    },
    {
     "data": {
      "image/png": "[encoded data removed]",
      "text/plain": [
       "<Figure size 720x720 with 1 Axes>"
      ]
     },
     "metadata": {
      "needs_background": "light"
     },
     "output_type": "display_data"
    }
   ],
   "source": [
    "bar, ax = plt.subplots(figsize=(10,10))\n",
    "sns.histplot(tabular_data['age'])\n",
    "plt.title('Histogram of Age of Patients', size=16)"
   ]
  },
  {
   "cell_type": "markdown",
   "metadata": {},
   "source": [
    "# Location of disease over Gender"
   ]
  },
  {
   "cell_type": "code",
   "execution_count": 11,
   "metadata": {
    "ExecuteTime": {
     "end_time": "2022-05-10T19:53:54.428848Z",
     "start_time": "2022-05-10T19:53:53.954846Z"
    },
    "execution": {
     "iopub.execute_input": "2022-05-10T18:42:55.594207Z",
     "iopub.status.busy": "2022-05-10T18:42:55.593866Z",
     "iopub.status.idle": "2022-05-10T18:42:56.183882Z",
     "shell.execute_reply": "2022-05-10T18:42:56.182808Z",
     "shell.execute_reply.started": "2022-05-10T18:42:55.594166Z"
    }
   },
   "outputs": [
    {
     "data": {
      "text/plain": [
       "(array([ 0,  1,  2,  3,  4,  5,  6,  7,  8,  9, 10, 11, 12, 13, 14]),\n",
       " [Text(0, 0, 'back'),\n",
       "  Text(1, 0, 'lower extremity'),\n",
       "  Text(2, 0, 'trunk'),\n",
       "  Text(3, 0, 'upper extremity'),\n",
       "  Text(4, 0, 'abdomen'),\n",
       "  Text(5, 0, 'face'),\n",
       "  Text(6, 0, 'chest'),\n",
       "  Text(7, 0, 'foot'),\n",
       "  Text(8, 0, 'scalp'),\n",
       "  Text(9, 0, 'neck'),\n",
       "  Text(10, 0, 'unknown'),\n",
       "  Text(11, 0, 'hand'),\n",
       "  Text(12, 0, 'genital'),\n",
       "  Text(13, 0, 'ear'),\n",
       "  Text(14, 0, 'acral')])"
      ]
     },
     "execution_count": 11,
     "metadata": {},
     "output_type": "execute_result"
    },
    {
     "data": {
      "image/png": "[encoded data removed]",
      "text/plain": [
       "<Figure size 864x864 with 1 Axes>"
      ]
     },
     "metadata": {
      "needs_background": "light"
     },
     "output_type": "display_data"
    }
   ],
   "source": [
    "value = tabular_data[['localization', 'sex']].value_counts().to_frame()\n",
    "value.reset_index(level=[1,0 ], inplace=True)\n",
    "temp = value.rename(columns = {'localization':'location', 0: 'count'})\n",
    "\n",
    "bar, ax = plt.subplots(figsize = (12, 12))\n",
    "sns.barplot(x = 'location',  y='count', hue = 'sex', data = temp)\n",
    "plt.title('Location of disease over Gender', size = 16)\n",
    "plt.xlabel('Disease', size=12)\n",
    "plt.ylabel('Frequency/Count', size=12)\n",
    "plt.xticks(rotation = 90)"
   ]
  },
  {
   "cell_type": "markdown",
   "metadata": {},
   "source": [
    "# Oversampling\n",
    "**To overcome class imbalace**"
   ]
  },
  {
   "cell_type": "code",
   "execution_count": 12,
   "metadata": {
    "ExecuteTime": {
     "end_time": "2022-05-10T19:53:57.426447Z",
     "start_time": "2022-05-10T19:53:56.050446Z"
    },
    "execution": {
     "iopub.execute_input": "2022-05-10T18:43:01.942358Z",
     "iopub.status.busy": "2022-05-10T18:43:01.941887Z",
     "iopub.status.idle": "2022-05-10T18:43:04.321862Z",
     "shell.execute_reply": "2022-05-10T18:43:04.321091Z",
     "shell.execute_reply.started": "2022-05-10T18:43:01.942316Z"
    }
   },
   "outputs": [],
   "source": [
    "oversample = RandomOverSampler()\n",
    "x,y  = oversample.fit_resample(x,y)"
   ]
  },
  {
   "cell_type": "code",
   "execution_count": 13,
   "metadata": {
    "ExecuteTime": {
     "end_time": "2022-05-10T19:53:57.852449Z",
     "start_time": "2022-05-10T19:53:57.570448Z"
    },
    "execution": {
     "iopub.execute_input": "2022-05-10T18:43:07.425279Z",
     "iopub.status.busy": "2022-05-10T18:43:07.424898Z",
     "iopub.status.idle": "2022-05-10T18:43:07.747124Z",
     "shell.execute_reply": "2022-05-10T18:43:07.746172Z",
     "shell.execute_reply.started": "2022-05-10T18:43:07.425245Z"
    }
   },
   "outputs": [
    {
     "name": "stdout",
     "output_type": "stream",
     "text": [
      "Shape of X : (46935, 28, 28, 3)\n"
     ]
    }
   ],
   "source": [
    "x = np.array(x).reshape(-1,28,28,3)\n",
    "print('Shape of X :',x.shape)"
   ]
  },
  {
   "cell_type": "markdown",
   "metadata": {},
   "source": [
    "# Standardization and Splitting Data"
   ]
  },
  {
   "cell_type": "code",
   "execution_count": 14,
   "metadata": {
    "ExecuteTime": {
     "end_time": "2022-05-10T19:53:59.572448Z",
     "start_time": "2022-05-10T19:53:58.025450Z"
    },
    "execution": {
     "iopub.execute_input": "2022-05-10T18:43:35.729873Z",
     "iopub.status.busy": "2022-05-10T18:43:35.729551Z",
     "iopub.status.idle": "2022-05-10T18:43:38.120705Z",
     "shell.execute_reply": "2022-05-10T18:43:38.119761Z",
     "shell.execute_reply.started": "2022-05-10T18:43:35.729843Z"
    }
   },
   "outputs": [],
   "source": [
    "x = (x-np.mean(x))/np.std(x)\n",
    "X_train, X_test, Y_train, Y_test = train_test_split(x,y, test_size=0.2, random_state=1)"
   ]
  },
  {
   "cell_type": "markdown",
   "metadata": {},
   "source": [
    "# Model Training"
   ]
  },
  {
   "cell_type": "code",
   "execution_count": 17,
   "metadata": {
    "ExecuteTime": {
     "end_time": "2022-05-10T19:56:26.251969Z",
     "start_time": "2022-05-10T19:56:26.182969Z"
    },
    "execution": {
     "iopub.execute_input": "2022-05-10T18:43:40.861779Z",
     "iopub.status.busy": "2022-05-10T18:43:40.861463Z",
     "iopub.status.idle": "2022-05-10T18:43:43.589234Z",
     "shell.execute_reply": "2022-05-10T18:43:43.588495Z",
     "shell.execute_reply.started": "2022-05-10T18:43:40.861748Z"
    }
   },
   "outputs": [
    {
     "name": "stdout",
     "output_type": "stream",
     "text": [
      "Model: \"sequential\"\n",
      "_________________________________________________________________\n",
      "Layer (type)                 Output Shape              Param #   \n",
      "=================================================================\n",
      "conv2d (Conv2D)              (None, 28, 28, 16)        448       \n",
      "_________________________________________________________________\n",
      "conv2d_1 (Conv2D)            (None, 26, 26, 32)        4640      \n",
      "_________________________________________________________________\n",
      "max_pooling2d (MaxPooling2D) (None, 13, 13, 32)        0         \n",
      "_________________________________________________________________\n",
      "conv2d_2 (Conv2D)            (None, 13, 13, 32)        9248      \n",
      "_________________________________________________________________\n",
      "conv2d_3 (Conv2D)            (None, 11, 11, 64)        18496     \n",
      "_________________________________________________________________\n",
      "max_pooling2d_1 (MaxPooling2 (None, 6, 6, 64)          0         \n",
      "_________________________________________________________________\n",
      "flatten (Flatten)            (None, 2304)              0         \n",
      "_________________________________________________________________\n",
      "dense (Dense)                (None, 64)                147520    \n",
      "_________________________________________________________________\n",
      "dense_1 (Dense)              (None, 32)                2080      \n",
      "_________________________________________________________________\n",
      "dense_2 (Dense)              (None, 7)                 231       \n",
      "=================================================================\n",
      "Total params: 182,663\n",
      "Trainable params: 182,663\n",
      "Non-trainable params: 0\n",
      "_________________________________________________________________\n"
     ]
    }
   ],
   "source": [
    "model = Sequential()\n",
    "model.add(Conv2D(16, kernel_size = (3,3), input_shape = (28, 28, 3), activation = 'relu', padding = 'same'))\n",
    "model.add(Conv2D(32, kernel_size = (3,3), activation = 'relu'))\n",
    "model.add(MaxPool2D(pool_size = (2,2)))\n",
    "model.add(Conv2D(32, kernel_size = (3,3), activation = 'relu', padding = 'same'))\n",
    "model.add(Conv2D(64, kernel_size = (3,3), activation = 'relu'))\n",
    "model.add(MaxPool2D(pool_size = (2,2), padding = 'same'))\n",
    "model.add(Flatten())\n",
    "model.add(Dense(64, activation='relu'))\n",
    "model.add(Dense(32, activation='relu'))\n",
    "model.add(Dense(7, activation='softmax'))\n",
    "model.summary()"
   ]
  },
  {
   "cell_type": "code",
   "execution_count": 16,
   "metadata": {
    "ExecuteTime": {
     "end_time": "2022-05-10T19:45:26.226476Z",
     "start_time": "2022-05-10T19:45:26.215481Z"
    },
    "execution": {
     "iopub.execute_input": "2022-05-10T18:43:45.898281Z",
     "iopub.status.busy": "2022-05-10T18:43:45.897815Z",
     "iopub.status.idle": "2022-05-10T18:43:45.909281Z",
     "shell.execute_reply": "2022-05-10T18:43:45.907244Z",
     "shell.execute_reply.started": "2022-05-10T18:43:45.898240Z"
    }
   },
   "outputs": [],
   "source": [
    "callback = tf.keras.callbacks.ModelCheckpoint(filepath='best_skin_model.h5',\n",
    "                                                  monitor='val_acc', mode='max',\n",
    "                                                 verbose=1)\n"
   ]
  },
  {
   "cell_type": "code",
   "execution_count": 17,
   "metadata": {
    "ExecuteTime": {
     "end_time": "2022-05-10T19:50:36.556003Z",
     "start_time": "2022-05-10T19:45:26.892005Z"
    },
    "execution": {
     "iopub.execute_input": "2022-05-10T18:44:03.390265Z",
     "iopub.status.busy": "2022-05-10T18:44:03.389951Z",
     "iopub.status.idle": "2022-05-10T18:44:35.618693Z",
     "shell.execute_reply": "2022-05-10T18:44:35.617816Z",
     "shell.execute_reply.started": "2022-05-10T18:44:03.390235Z"
    }
   },
   "outputs": [
    {
     "name": "stdout",
     "output_type": "stream",
     "text": [
      "Epoch 1/20\n",
      "234/235 [============================>.] - ETA: 0s - loss: 1.2309 - accuracy: 0.5202\n",
      "Epoch 00001: saving model to best_skin_model.h5\n",
      "235/235 [==============================] - 17s 72ms/step - loss: 1.2300 - accuracy: 0.5207 - val_loss: 0.8927 - val_accuracy: 0.6639\n",
      "Epoch 2/20\n",
      "234/235 [============================>.] - ETA: 0s - loss: 0.6880 - accuracy: 0.7485\n",
      "Epoch 00002: saving model to best_skin_model.h5\n",
      "235/235 [==============================] - 16s 68ms/step - loss: 0.6872 - accuracy: 0.7488 - val_loss: 0.5328 - val_accuracy: 0.8079\n",
      "Epoch 3/20\n",
      "234/235 [============================>.] - ETA: 0s - loss: 0.4428 - accuracy: 0.8385\n",
      "Epoch 00003: saving model to best_skin_model.h5\n",
      "235/235 [==============================] - 16s 68ms/step - loss: 0.4425 - accuracy: 0.8386 - val_loss: 0.4946 - val_accuracy: 0.8305\n",
      "Epoch 4/20\n",
      "234/235 [============================>.] - ETA: 0s - loss: 0.3198 - accuracy: 0.8868\n",
      "Epoch 00004: saving model to best_skin_model.h5\n",
      "235/235 [==============================] - 16s 66ms/step - loss: 0.3194 - accuracy: 0.8869 - val_loss: 0.3071 - val_accuracy: 0.8847\n",
      "Epoch 5/20\n",
      "234/235 [============================>.] - ETA: 0s - loss: 0.2402 - accuracy: 0.9155\n",
      "Epoch 00005: saving model to best_skin_model.h5\n",
      "235/235 [==============================] - 16s 67ms/step - loss: 0.2401 - accuracy: 0.9154 - val_loss: 0.2662 - val_accuracy: 0.9040\n",
      "Epoch 6/20\n",
      "234/235 [============================>.] - ETA: 0s - loss: 0.1904 - accuracy: 0.9319\n",
      "Epoch 00006: saving model to best_skin_model.h5\n",
      "235/235 [==============================] - 16s 66ms/step - loss: 0.1903 - accuracy: 0.9320 - val_loss: 0.2295 - val_accuracy: 0.9162\n",
      "Epoch 7/20\n",
      "234/235 [============================>.] - ETA: 0s - loss: 0.1457 - accuracy: 0.9485\n",
      "Epoch 00007: saving model to best_skin_model.h5\n",
      "235/235 [==============================] - 16s 66ms/step - loss: 0.1458 - accuracy: 0.9484 - val_loss: 0.1765 - val_accuracy: 0.9383\n",
      "Epoch 8/20\n",
      "234/235 [============================>.] - ETA: 0s - loss: 0.1228 - accuracy: 0.9567\n",
      "Epoch 00008: saving model to best_skin_model.h5\n",
      "235/235 [==============================] - 16s 67ms/step - loss: 0.1230 - accuracy: 0.9567 - val_loss: 0.1502 - val_accuracy: 0.9462\n",
      "Epoch 9/20\n",
      "234/235 [============================>.] - ETA: 0s - loss: 0.1018 - accuracy: 0.9642\n",
      "Epoch 00009: saving model to best_skin_model.h5\n",
      "235/235 [==============================] - 16s 66ms/step - loss: 0.1016 - accuracy: 0.9643 - val_loss: 0.1432 - val_accuracy: 0.9507\n",
      "Epoch 10/20\n",
      "234/235 [============================>.] - ETA: 0s - loss: 0.1104 - accuracy: 0.9600\n",
      "Epoch 00010: saving model to best_skin_model.h5\n",
      "235/235 [==============================] - 16s 67ms/step - loss: 0.1102 - accuracy: 0.9601 - val_loss: 0.1276 - val_accuracy: 0.9575\n",
      "Epoch 11/20\n",
      "234/235 [============================>.] - ETA: 0s - loss: 0.0751 - accuracy: 0.9732\n",
      "Epoch 00011: saving model to best_skin_model.h5\n",
      "235/235 [==============================] - 16s 67ms/step - loss: 0.0750 - accuracy: 0.9732 - val_loss: 0.1803 - val_accuracy: 0.9395\n",
      "Epoch 12/20\n",
      "234/235 [============================>.] - ETA: 0s - loss: 0.0635 - accuracy: 0.9771\n",
      "Epoch 00012: saving model to best_skin_model.h5\n",
      "235/235 [==============================] - 16s 67ms/step - loss: 0.0635 - accuracy: 0.9771 - val_loss: 0.1355 - val_accuracy: 0.9601\n",
      "Epoch 13/20\n",
      "234/235 [============================>.] - ETA: 0s - loss: 0.0626 - accuracy: 0.9791\n",
      "Epoch 00013: saving model to best_skin_model.h5\n",
      "235/235 [==============================] - 16s 67ms/step - loss: 0.0626 - accuracy: 0.9791 - val_loss: 0.1764 - val_accuracy: 0.9493\n",
      "Epoch 14/20\n",
      "234/235 [============================>.] - ETA: 0s - loss: 0.0497 - accuracy: 0.9826\n",
      "Epoch 00014: saving model to best_skin_model.h5\n",
      "235/235 [==============================] - 16s 67ms/step - loss: 0.0497 - accuracy: 0.9826 - val_loss: 0.1162 - val_accuracy: 0.9694\n",
      "Epoch 15/20\n",
      "234/235 [============================>.] - ETA: 0s - loss: 0.0391 - accuracy: 0.9864\n",
      "Epoch 00015: saving model to best_skin_model.h5\n",
      "235/235 [==============================] - 14s 61ms/step - loss: 0.0394 - accuracy: 0.9863 - val_loss: 0.2658 - val_accuracy: 0.9190\n",
      "Epoch 16/20\n",
      "234/235 [============================>.] - ETA: 0s - loss: 0.0699 - accuracy: 0.9753\n",
      "Epoch 00016: saving model to best_skin_model.h5\n",
      "235/235 [==============================] - 14s 61ms/step - loss: 0.0698 - accuracy: 0.9753 - val_loss: 0.1212 - val_accuracy: 0.9683\n",
      "Epoch 17/20\n",
      "234/235 [============================>.] - ETA: 0s - loss: 0.0248 - accuracy: 0.9912\n",
      "Epoch 00017: saving model to best_skin_model.h5\n",
      "235/235 [==============================] - 14s 61ms/step - loss: 0.0247 - accuracy: 0.9912 - val_loss: 0.1419 - val_accuracy: 0.9676\n",
      "Epoch 18/20\n",
      "234/235 [============================>.] - ETA: 0s - loss: 0.0183 - accuracy: 0.9940\n",
      "Epoch 00018: saving model to best_skin_model.h5\n",
      "235/235 [==============================] - 15s 62ms/step - loss: 0.0183 - accuracy: 0.9940 - val_loss: 0.1412 - val_accuracy: 0.9670\n",
      "Epoch 19/20\n",
      "234/235 [============================>.] - ETA: 0s - loss: 0.0600 - accuracy: 0.9808\n",
      "Epoch 00019: saving model to best_skin_model.h5\n",
      "235/235 [==============================] - 14s 62ms/step - loss: 0.0599 - accuracy: 0.9808 - val_loss: 0.2407 - val_accuracy: 0.9382\n",
      "Epoch 20/20\n",
      "234/235 [============================>.] - ETA: 0s - loss: 0.0366 - accuracy: 0.9883\n",
      "Epoch 00020: saving model to best_skin_model.h5\n",
      "235/235 [==============================] - 14s 61ms/step - loss: 0.0365 - accuracy: 0.9883 - val_loss: 0.1221 - val_accuracy: 0.9736\n"
     ]
    }
   ],
   "source": [
    "model.compile(loss = 'sparse_categorical_crossentropy',\n",
    "             optimizer = 'adam',\n",
    "              metrics = ['accuracy'])\n",
    "history = model.fit(X_train,\n",
    "                    Y_train,\n",
    "                    validation_split=0.2,\n",
    "                    batch_size = 128,\n",
    "                    epochs = 20,\n",
    "                    callbacks=[callback])"
   ]
  },
  {
   "cell_type": "markdown",
   "metadata": {},
   "source": [
    "# Plot Accuracy and Loss"
   ]
  },
  {
   "cell_type": "code",
   "execution_count": 15,
   "metadata": {
    "ExecuteTime": {
     "end_time": "2022-05-10T19:54:04.665187Z",
     "start_time": "2022-05-10T19:54:04.160186Z"
    },
    "execution": {
     "iopub.execute_input": "2022-05-10T18:45:23.088984Z",
     "iopub.status.busy": "2022-05-10T18:45:23.088638Z",
     "iopub.status.idle": "2022-05-10T18:45:23.249163Z",
     "shell.execute_reply": "2022-05-10T18:45:23.248334Z",
     "shell.execute_reply.started": "2022-05-10T18:45:23.088950Z"
    }
   },
   "outputs": [
    {
     "ename": "NameError",
     "evalue": "name 'history' is not defined",
     "output_type": "error",
     "traceback": [
      "\u001b[1;31m---------------------------------------------------------------------------\u001b[0m",
      "\u001b[1;31mNameError\u001b[0m                                 Traceback (most recent call last)",
      "\u001b[1;32m<ipython-input-15-38c894c7c43f>\u001b[0m in \u001b[0;36m<module>\u001b[1;34m\u001b[0m\n\u001b[1;32m----> 1\u001b[1;33m \u001b[0mplt\u001b[0m\u001b[1;33m.\u001b[0m\u001b[0mplot\u001b[0m\u001b[1;33m(\u001b[0m\u001b[0mhistory\u001b[0m\u001b[1;33m.\u001b[0m\u001b[0mhistory\u001b[0m\u001b[1;33m[\u001b[0m\u001b[1;34m'accuracy'\u001b[0m\u001b[1;33m]\u001b[0m\u001b[1;33m)\u001b[0m\u001b[1;33m\u001b[0m\u001b[1;33m\u001b[0m\u001b[0m\n\u001b[0m\u001b[0;32m      2\u001b[0m \u001b[0mplt\u001b[0m\u001b[1;33m.\u001b[0m\u001b[0mplot\u001b[0m\u001b[1;33m(\u001b[0m\u001b[0mhistory\u001b[0m\u001b[1;33m.\u001b[0m\u001b[0mhistory\u001b[0m\u001b[1;33m[\u001b[0m\u001b[1;34m'val_accuracy'\u001b[0m\u001b[1;33m]\u001b[0m\u001b[1;33m)\u001b[0m\u001b[1;33m\u001b[0m\u001b[1;33m\u001b[0m\u001b[0m\n\u001b[0;32m      3\u001b[0m \u001b[0mplt\u001b[0m\u001b[1;33m.\u001b[0m\u001b[0mtitle\u001b[0m\u001b[1;33m(\u001b[0m\u001b[1;34m'model accuracy'\u001b[0m\u001b[1;33m)\u001b[0m\u001b[1;33m\u001b[0m\u001b[1;33m\u001b[0m\u001b[0m\n\u001b[0;32m      4\u001b[0m \u001b[0mplt\u001b[0m\u001b[1;33m.\u001b[0m\u001b[0mylabel\u001b[0m\u001b[1;33m(\u001b[0m\u001b[1;34m'accuracy'\u001b[0m\u001b[1;33m)\u001b[0m\u001b[1;33m\u001b[0m\u001b[1;33m\u001b[0m\u001b[0m\n\u001b[0;32m      5\u001b[0m \u001b[0mplt\u001b[0m\u001b[1;33m.\u001b[0m\u001b[0mxlabel\u001b[0m\u001b[1;33m(\u001b[0m\u001b[1;34m'epoch'\u001b[0m\u001b[1;33m)\u001b[0m\u001b[1;33m\u001b[0m\u001b[1;33m\u001b[0m\u001b[0m\n",
      "\u001b[1;31mNameError\u001b[0m: name 'history' is not defined"
     ]
    }
   ],
   "source": [
    "plt.plot(history.history['accuracy'])\n",
    "plt.plot(history.history['val_accuracy'])\n",
    "plt.title('model accuracy')\n",
    "plt.ylabel('accuracy')\n",
    "plt.xlabel('epoch')\n",
    "plt.legend(['train', 'val'], loc='upper left')\n",
    "plt.show()"
   ]
  },
  {
   "cell_type": "code",
   "execution_count": null,
   "metadata": {
    "ExecuteTime": {
     "end_time": "2022-05-10T19:54:04.669191Z",
     "start_time": "2022-05-10T19:54:04.398Z"
    },
    "execution": {
     "iopub.execute_input": "2022-05-10T18:45:24.424550Z",
     "iopub.status.busy": "2022-05-10T18:45:24.424217Z",
     "iopub.status.idle": "2022-05-10T18:45:24.579391Z",
     "shell.execute_reply": "2022-05-10T18:45:24.578397Z",
     "shell.execute_reply.started": "2022-05-10T18:45:24.424516Z"
    }
   },
   "outputs": [],
   "source": [
    "plt.plot(history.history['loss'])\n",
    "plt.plot(history.history['val_loss'])\n",
    "plt.title('model loss')\n",
    "plt.ylabel('loss')\n",
    "plt.xlabel('epoch')\n",
    "plt.legend(['train', 'val'], loc='upper left')\n",
    "plt.show()"
   ]
  },
  {
   "cell_type": "code",
   "execution_count": 18,
   "metadata": {
    "ExecuteTime": {
     "end_time": "2022-05-10T19:56:30.097049Z",
     "start_time": "2022-05-10T19:56:30.075052Z"
    },
    "execution": {
     "iopub.execute_input": "2022-05-10T18:45:25.842469Z",
     "iopub.status.busy": "2022-05-10T18:45:25.842128Z",
     "iopub.status.idle": "2022-05-10T18:45:25.860479Z",
     "shell.execute_reply": "2022-05-10T18:45:25.859581Z",
     "shell.execute_reply.started": "2022-05-10T18:45:25.842422Z"
    }
   },
   "outputs": [],
   "source": [
    "model.load_weights('best_skin_model.h5')"
   ]
  },
  {
   "cell_type": "markdown",
   "metadata": {},
   "source": [
    "# Model Testing"
   ]
  },
  {
   "cell_type": "code",
   "execution_count": 19,
   "metadata": {
    "ExecuteTime": {
     "end_time": "2022-05-10T19:56:32.298015Z",
     "start_time": "2022-05-10T19:56:32.269018Z"
    },
    "execution": {
     "iopub.execute_input": "2022-05-10T18:45:31.560418Z",
     "iopub.status.busy": "2022-05-10T18:45:31.560065Z",
     "iopub.status.idle": "2022-05-10T18:45:32.195945Z",
     "shell.execute_reply": "2022-05-10T18:45:32.195202Z",
     "shell.execute_reply.started": "2022-05-10T18:45:31.560388Z"
    }
   },
   "outputs": [
    {
     "ename": "RuntimeError",
     "evalue": "You must compile your model before training/testing. Use `model.compile(optimizer, loss)`.",
     "output_type": "error",
     "traceback": [
      "\u001b[1;31m---------------------------------------------------------------------------\u001b[0m",
      "\u001b[1;31mRuntimeError\u001b[0m                              Traceback (most recent call last)",
      "\u001b[1;32m<ipython-input-19-2812a5cb81ed>\u001b[0m in \u001b[0;36m<module>\u001b[1;34m\u001b[0m\n\u001b[1;32m----> 1\u001b[1;33m \u001b[0mloss\u001b[0m\u001b[1;33m,\u001b[0m \u001b[0macc\u001b[0m \u001b[1;33m=\u001b[0m \u001b[0mmodel\u001b[0m\u001b[1;33m.\u001b[0m\u001b[0mevaluate\u001b[0m\u001b[1;33m(\u001b[0m\u001b[0mX_test\u001b[0m\u001b[1;33m,\u001b[0m \u001b[0mY_test\u001b[0m\u001b[1;33m,\u001b[0m \u001b[0mverbose\u001b[0m\u001b[1;33m=\u001b[0m\u001b[1;36m2\u001b[0m\u001b[1;33m)\u001b[0m\u001b[1;33m\u001b[0m\u001b[1;33m\u001b[0m\u001b[0m\n\u001b[0m",
      "\u001b[1;32m~\\anaconda3\\lib\\site-packages\\tensorflow\\python\\keras\\engine\\training.py\u001b[0m in \u001b[0;36m_method_wrapper\u001b[1;34m(self, *args, **kwargs)\u001b[0m\n\u001b[0;32m    106\u001b[0m   \u001b[1;32mdef\u001b[0m \u001b[0m_method_wrapper\u001b[0m\u001b[1;33m(\u001b[0m\u001b[0mself\u001b[0m\u001b[1;33m,\u001b[0m \u001b[1;33m*\u001b[0m\u001b[0margs\u001b[0m\u001b[1;33m,\u001b[0m \u001b[1;33m**\u001b[0m\u001b[0mkwargs\u001b[0m\u001b[1;33m)\u001b[0m\u001b[1;33m:\u001b[0m\u001b[1;33m\u001b[0m\u001b[1;33m\u001b[0m\u001b[0m\n\u001b[0;32m    107\u001b[0m     \u001b[1;32mif\u001b[0m \u001b[1;32mnot\u001b[0m \u001b[0mself\u001b[0m\u001b[1;33m.\u001b[0m\u001b[0m_in_multi_worker_mode\u001b[0m\u001b[1;33m(\u001b[0m\u001b[1;33m)\u001b[0m\u001b[1;33m:\u001b[0m  \u001b[1;31m# pylint: disable=protected-access\u001b[0m\u001b[1;33m\u001b[0m\u001b[1;33m\u001b[0m\u001b[0m\n\u001b[1;32m--> 108\u001b[1;33m       \u001b[1;32mreturn\u001b[0m \u001b[0mmethod\u001b[0m\u001b[1;33m(\u001b[0m\u001b[0mself\u001b[0m\u001b[1;33m,\u001b[0m \u001b[1;33m*\u001b[0m\u001b[0margs\u001b[0m\u001b[1;33m,\u001b[0m \u001b[1;33m**\u001b[0m\u001b[0mkwargs\u001b[0m\u001b[1;33m)\u001b[0m\u001b[1;33m\u001b[0m\u001b[1;33m\u001b[0m\u001b[0m\n\u001b[0m\u001b[0;32m    109\u001b[0m \u001b[1;33m\u001b[0m\u001b[0m\n\u001b[0;32m    110\u001b[0m     \u001b[1;31m# Running inside `run_distribute_coordinator` already.\u001b[0m\u001b[1;33m\u001b[0m\u001b[1;33m\u001b[0m\u001b[1;33m\u001b[0m\u001b[0m\n",
      "\u001b[1;32m~\\anaconda3\\lib\\site-packages\\tensorflow\\python\\keras\\engine\\training.py\u001b[0m in \u001b[0;36mevaluate\u001b[1;34m(self, x, y, batch_size, verbose, sample_weight, steps, callbacks, max_queue_size, workers, use_multiprocessing, return_dict)\u001b[0m\n\u001b[0;32m   1333\u001b[0m     \u001b[0m_keras_api_gauge\u001b[0m\u001b[1;33m.\u001b[0m\u001b[0mget_cell\u001b[0m\u001b[1;33m(\u001b[0m\u001b[1;34m'evaluate'\u001b[0m\u001b[1;33m)\u001b[0m\u001b[1;33m.\u001b[0m\u001b[0mset\u001b[0m\u001b[1;33m(\u001b[0m\u001b[1;32mTrue\u001b[0m\u001b[1;33m)\u001b[0m\u001b[1;33m\u001b[0m\u001b[1;33m\u001b[0m\u001b[0m\n\u001b[0;32m   1334\u001b[0m     \u001b[0mversion_utils\u001b[0m\u001b[1;33m.\u001b[0m\u001b[0mdisallow_legacy_graph\u001b[0m\u001b[1;33m(\u001b[0m\u001b[1;34m'Model'\u001b[0m\u001b[1;33m,\u001b[0m \u001b[1;34m'evaluate'\u001b[0m\u001b[1;33m)\u001b[0m\u001b[1;33m\u001b[0m\u001b[1;33m\u001b[0m\u001b[0m\n\u001b[1;32m-> 1335\u001b[1;33m     \u001b[0mself\u001b[0m\u001b[1;33m.\u001b[0m\u001b[0m_assert_compile_was_called\u001b[0m\u001b[1;33m(\u001b[0m\u001b[1;33m)\u001b[0m\u001b[1;33m\u001b[0m\u001b[1;33m\u001b[0m\u001b[0m\n\u001b[0m\u001b[0;32m   1336\u001b[0m     \u001b[0mself\u001b[0m\u001b[1;33m.\u001b[0m\u001b[0m_check_call_args\u001b[0m\u001b[1;33m(\u001b[0m\u001b[1;34m'evaluate'\u001b[0m\u001b[1;33m)\u001b[0m\u001b[1;33m\u001b[0m\u001b[1;33m\u001b[0m\u001b[0m\n\u001b[0;32m   1337\u001b[0m     \u001b[0m_disallow_inside_tf_function\u001b[0m\u001b[1;33m(\u001b[0m\u001b[1;34m'evaluate'\u001b[0m\u001b[1;33m)\u001b[0m\u001b[1;33m\u001b[0m\u001b[1;33m\u001b[0m\u001b[0m\n",
      "\u001b[1;32m~\\anaconda3\\lib\\site-packages\\tensorflow\\python\\keras\\engine\\training.py\u001b[0m in \u001b[0;36m_assert_compile_was_called\u001b[1;34m(self)\u001b[0m\n\u001b[0;32m   2567\u001b[0m     \u001b[1;31m# (i.e. whether the model is built and its inputs/outputs are set).\u001b[0m\u001b[1;33m\u001b[0m\u001b[1;33m\u001b[0m\u001b[1;33m\u001b[0m\u001b[0m\n\u001b[0;32m   2568\u001b[0m     \u001b[1;32mif\u001b[0m \u001b[1;32mnot\u001b[0m \u001b[0mself\u001b[0m\u001b[1;33m.\u001b[0m\u001b[0m_is_compiled\u001b[0m\u001b[1;33m:\u001b[0m\u001b[1;33m\u001b[0m\u001b[1;33m\u001b[0m\u001b[0m\n\u001b[1;32m-> 2569\u001b[1;33m       raise RuntimeError('You must compile your model before '\n\u001b[0m\u001b[0;32m   2570\u001b[0m                          \u001b[1;34m'training/testing. '\u001b[0m\u001b[1;33m\u001b[0m\u001b[1;33m\u001b[0m\u001b[0m\n\u001b[0;32m   2571\u001b[0m                          'Use `model.compile(optimizer, loss)`.')\n",
      "\u001b[1;31mRuntimeError\u001b[0m: You must compile your model before training/testing. Use `model.compile(optimizer, loss)`."
     ]
    }
   ],
   "source": [
    "loss, acc = model.evaluate(X_test, Y_test, verbose=2)"
   ]
  },
  {
   "cell_type": "markdown",
   "metadata": {},
   "source": [
    "# Model Inference"
   ]
  },
  {
   "cell_type": "code",
   "execution_count": 1,
   "metadata": {
    "ExecuteTime": {
     "end_time": "2022-05-10T19:58:26.448975Z",
     "start_time": "2022-05-10T19:58:26.001973Z"
    },
    "execution": {
     "iopub.execute_input": "2022-05-10T04:02:36.380153Z",
     "iopub.status.busy": "2022-05-10T04:02:36.379782Z",
     "iopub.status.idle": "2022-05-10T04:03:24.873643Z",
     "shell.execute_reply": "2022-05-10T04:03:24.872474Z",
     "shell.execute_reply.started": "2022-05-10T04:02:36.380124Z"
    }
   },
   "outputs": [
    {
     "ename": "NameError",
     "evalue": "name 'model' is not defined",
     "output_type": "error",
     "traceback": [
      "\u001b[1;31m---------------------------------------------------------------------------\u001b[0m",
      "\u001b[1;31mNameError\u001b[0m                                 Traceback (most recent call last)",
      "\u001b[1;32m<ipython-input-1-b4e687cdb683>\u001b[0m in \u001b[0;36m<module>\u001b[1;34m\u001b[0m\n\u001b[0;32m      4\u001b[0m \u001b[0mcv2\u001b[0m\u001b[1;33m.\u001b[0m\u001b[0mimshow\u001b[0m\u001b[1;33m(\u001b[0m\u001b[1;34m\"frame\"\u001b[0m\u001b[1;33m,\u001b[0m \u001b[0mimg\u001b[0m\u001b[1;33m)\u001b[0m\u001b[1;33m\u001b[0m\u001b[1;33m\u001b[0m\u001b[0m\n\u001b[0;32m      5\u001b[0m \u001b[0mimg\u001b[0m \u001b[1;33m=\u001b[0m \u001b[0mcv2\u001b[0m\u001b[1;33m.\u001b[0m\u001b[0mresize\u001b[0m\u001b[1;33m(\u001b[0m\u001b[0mimg\u001b[0m\u001b[1;33m,\u001b[0m \u001b[1;33m(\u001b[0m\u001b[1;36m28\u001b[0m\u001b[1;33m,\u001b[0m \u001b[1;36m28\u001b[0m\u001b[1;33m)\u001b[0m\u001b[1;33m)\u001b[0m\u001b[1;33m\u001b[0m\u001b[1;33m\u001b[0m\u001b[0m\n\u001b[1;32m----> 6\u001b[1;33m \u001b[0mresult\u001b[0m \u001b[1;33m=\u001b[0m \u001b[0mmodel\u001b[0m\u001b[1;33m.\u001b[0m\u001b[0mpredict\u001b[0m\u001b[1;33m(\u001b[0m\u001b[0mimg\u001b[0m\u001b[1;33m.\u001b[0m\u001b[0mreshape\u001b[0m\u001b[1;33m(\u001b[0m\u001b[1;36m1\u001b[0m\u001b[1;33m,\u001b[0m \u001b[1;36m28\u001b[0m\u001b[1;33m,\u001b[0m \u001b[1;36m28\u001b[0m\u001b[1;33m,\u001b[0m \u001b[1;36m3\u001b[0m\u001b[1;33m)\u001b[0m\u001b[1;33m)\u001b[0m\u001b[1;33m\u001b[0m\u001b[1;33m\u001b[0m\u001b[0m\n\u001b[0m\u001b[0;32m      7\u001b[0m \u001b[0mmax_prob\u001b[0m \u001b[1;33m=\u001b[0m \u001b[0mmax\u001b[0m\u001b[1;33m(\u001b[0m\u001b[0mresult\u001b[0m\u001b[1;33m[\u001b[0m\u001b[1;36m0\u001b[0m\u001b[1;33m]\u001b[0m\u001b[1;33m)\u001b[0m\u001b[1;33m\u001b[0m\u001b[1;33m\u001b[0m\u001b[0m\n\u001b[0;32m      8\u001b[0m \u001b[0mcv2\u001b[0m\u001b[1;33m.\u001b[0m\u001b[0mimshow\u001b[0m\u001b[1;33m(\u001b[0m\u001b[1;34m\"frame\"\u001b[0m\u001b[1;33m,\u001b[0m \u001b[0mimg\u001b[0m\u001b[1;33m)\u001b[0m\u001b[1;33m\u001b[0m\u001b[1;33m\u001b[0m\u001b[0m\n",
      "\u001b[1;31mNameError\u001b[0m: name 'model' is not defined"
     ]
    }
   ],
   "source": [
    "srcdir = 'HAM10000_images_part_1'\n",
    "import cv2\n",
    "img = cv2.imread(\"HAM10000_images_part_1/ISIC_0024306.jpg\")\n",
    "cv2.imshow(\"frame\", img)\n",
    "img = cv2.resize(img, (28, 28))\n",
    "result = model.predict(img.reshape(1, 28, 28, 3))\n",
    "max_prob = max(result[0])\n",
    "cv2.imshow(\"frame\", img)\n",
    "class_ind = list(result[0]).index(max_prob)\n",
    "class_name = classes[class_ind]\n",
    "print(class_name)\n"
   ]
  },
  {
   "cell_type": "code",
   "execution_count": null,
   "metadata": {},
   "outputs": [],
   "source": []
  }
 ],
 "metadata": {
  "kernelspec": {
   "display_name": "Python 3",
   "language": "python",
   "name": "python3"
  },
  "language_info": {
   "codemirror_mode": {
    "name": "ipython",
    "version": 3
   },
   "file_extension": ".py",
   "mimetype": "text/x-python",
   "name": "python",
   "nbconvert_exporter": "python",
   "pygments_lexer": "ipython3",
   "version": "3.8.5"
  },
  "toc": {
   "base_numbering": 1,
   "nav_menu": {},
   "number_sections": true,
   "sideBar": true,
   "skip_h1_title": false,
   "title_cell": "Table of Contents",
   "title_sidebar": "Contents",
   "toc_cell": false,
   "toc_position": {},
   "toc_section_display": true,
   "toc_window_display": false
  },
  "varInspector": {
   "cols": {
    "lenName": 16,
    "lenType": 16,
    "lenVar": 40
   },
   "kernels_config": {
    "python": {
     "delete_cmd_postfix": "",
     "delete_cmd_prefix": "del ",
     "library": "var_list.py",
     "varRefreshCmd": "print(var_dic_list())"
    },
    "r": {
     "delete_cmd_postfix": ") ",
     "delete_cmd_prefix": "rm(",
     "library": "var_list.r",
     "varRefreshCmd": "cat(var_dic_list()) "
    }
   },
   "types_to_exclude": [
    "module",
    "function",
    "builtin_function_or_method",
    "instance",
    "_Feature"
   ],
   "window_display": false
  }
 },
 "nbformat": 4,
 "nbformat_minor": 4
}
